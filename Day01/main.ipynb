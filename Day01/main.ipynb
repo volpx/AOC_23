{
 "cells": [
  {
   "cell_type": "code",
   "execution_count": 1,
   "metadata": {},
   "outputs": [],
   "source": [
    "import re\n",
    "\n",
    "filename='input'"
   ]
  },
  {
   "cell_type": "code",
   "execution_count": 2,
   "metadata": {},
   "outputs": [
    {
     "name": "stdout",
     "output_type": "stream",
     "text": [
      "Value: 55123\n"
     ]
    }
   ],
   "source": [
    "s=0\n",
    "with  open(filename,'r') as file:\n",
    "    for line in file.readlines():\n",
    "        matches=re.findall(r'[0-9]',line)\n",
    "        s+=int(matches[0])*10+int(matches[-1])\n",
    "\n",
    "print('Value:',s)"
   ]
  },
  {
   "cell_type": "code",
   "execution_count": 14,
   "metadata": {},
   "outputs": [
    {
     "name": "stdout",
     "output_type": "stream",
     "text": [
      "Value: 55260\n"
     ]
    }
   ],
   "source": [
    "def interpreter(s):\n",
    "    # print(s)\n",
    "    numbers_strings = ['zero','one','two','three','four','five','six','seven','eight','nine']\n",
    "    if s in numbers_strings:\n",
    "        return numbers_strings.index(s)\n",
    "    else:\n",
    "        return int(s)\n",
    "\n",
    "s=0\n",
    "with open(filename,'r') as file:\n",
    "    for line in file.readlines():\n",
    "        line=line[:-1]\n",
    "        p1=r'([0-9])|(one)|(two)|(three)|(four)|(five)|(six)|(seven)|(eight)|(nine)'\n",
    "        pc=re.compile(p1)\n",
    "\n",
    "        # find first number\n",
    "        match=pc.search(line)\n",
    "        d1=interpreter(match.group())\n",
    "        # print(line, match)\n",
    "\n",
    "        # find last number\n",
    "        for i in range(len(line)):\n",
    "            match=pc.match(line,len(line)-i-1)\n",
    "            if match is not None:\n",
    "                break\n",
    "        if match is None:\n",
    "            print(line, match, i)\n",
    "\n",
    "        d0=interpreter(match.group())\n",
    "\n",
    "        s+=d1*10+d0\n",
    "\n",
    "print('Value:',s)"
   ]
  }
 ],
 "metadata": {
  "kernelspec": {
   "display_name": "phy",
   "language": "python",
   "name": "python3"
  },
  "language_info": {
   "codemirror_mode": {
    "name": "ipython",
    "version": 3
   },
   "file_extension": ".py",
   "mimetype": "text/x-python",
   "name": "python",
   "nbconvert_exporter": "python",
   "pygments_lexer": "ipython3",
   "version": "3.11.0"
  }
 },
 "nbformat": 4,
 "nbformat_minor": 2
}
