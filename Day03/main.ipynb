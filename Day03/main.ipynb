{
 "cells": [
  {
   "cell_type": "code",
   "execution_count": 1,
   "metadata": {},
   "outputs": [],
   "source": [
    "import re\n",
    "import numpy as np\n",
    "import pandas as pd\n",
    "\n",
    "filename='input'"
   ]
  },
  {
   "cell_type": "code",
   "execution_count": 16,
   "metadata": {},
   "outputs": [],
   "source": [
    "with open(filename) as file:\n",
    "    file=file.readlines()\n",
    "\n",
    "N=len(file)\n",
    "\n",
    "number_re=re.compile(r'[0-9]+')\n",
    "symbol_re=re.compile(r'[^0-9.\\n]')"
   ]
  },
  {
   "cell_type": "code",
   "execution_count": 26,
   "metadata": {},
   "outputs": [
    {
     "name": "stdout",
     "output_type": "stream",
     "text": [
      "s: 543867\n"
     ]
    }
   ],
   "source": [
    "s=0\n",
    "for r in range(N):\n",
    "    continue_on_row=True\n",
    "    number_match=None\n",
    "    while continue_on_row:\n",
    "        if number_match:\n",
    "            number_match=number_re.search(file[r],min(N,number_match.end()+1))\n",
    "        else:\n",
    "            number_match=number_re.search(file[r])\n",
    "        if number_match:\n",
    "            # search for validity symbol around\n",
    "            symbol_found=False\n",
    "            if not symbol_found and r>=1:\n",
    "                if symbol_re.search(file[r-1],max(0,number_match.start()-1),min(N,number_match.end()+1)):\n",
    "                    symbol_found=True\n",
    "            if not symbol_found and r<N-1:\n",
    "                if symbol_re.search(file[r+1],max(0,number_match.start()-1),min(N,number_match.end()+1)):\n",
    "                    symbol_found=True\n",
    "            if not symbol_found:\n",
    "                if symbol_re.search(file[r],max(0,number_match.start()-1),min(N,number_match.end()+1)):\n",
    "                    symbol_found=True\n",
    "            if symbol_found:\n",
    "                s+=int(number_match.group())\n",
    "        else:\n",
    "            continue_on_row=False\n",
    "print('s:',s)"
   ]
  },
  {
   "cell_type": "code",
   "execution_count": 32,
   "metadata": {},
   "outputs": [
    {
     "name": "stdout",
     "output_type": "stream",
     "text": [
      "s: 79613331\n"
     ]
    }
   ],
   "source": [
    "gear_re=re.compile(r'[*]')\n",
    "s=0\n",
    "for r in range(N):\n",
    "    continue_on_row=True\n",
    "    gear_match=None\n",
    "    while continue_on_row:\n",
    "        if gear_match:\n",
    "            gear_match=gear_re.search(file[r],min(N,gear_match.end()+1))\n",
    "        else:\n",
    "            gear_match=gear_re.search(file[r])\n",
    "        if gear_match:\n",
    "            # search numbers around\n",
    "            p=1\n",
    "            n=0\n",
    "            if r>=1:\n",
    "                matches=list(number_re.finditer(file[r-1]))\n",
    "                for m in matches:\n",
    "                    # .....*.......\n",
    "                    # ..456......\n",
    "                    if max(0,m.start())-1 <= gear_match.start() < min(N,m.end()) + 1:\n",
    "                        n+=1\n",
    "                        p*=int(m.group())\n",
    "            if r<N-1:\n",
    "                matches=list(number_re.finditer(file[r+1]))\n",
    "                for m in matches:\n",
    "                    # .....*.......\n",
    "                    # ..456......\n",
    "                    if max(0,m.start())-1 <= gear_match.start() < min(N,m.end()) + 1:\n",
    "                        n+=1\n",
    "                        p*=int(m.group())\n",
    "            if True:\n",
    "                matches=list(number_re.finditer(file[r]))\n",
    "                for m in matches:\n",
    "                    # .....*.......\n",
    "                    # ..456......\n",
    "                    if max(0,m.start())-1 <= gear_match.start() < min(N,m.end()) + 1:\n",
    "                        n+=1\n",
    "                        p*=int(m.group())\n",
    "            if n==2:\n",
    "                s+=p\n",
    "            p=1\n",
    "            n=0\n",
    "        else:\n",
    "            continue_on_row=False\n",
    "    \n",
    "print('s:',s)"
   ]
  },
  {
   "cell_type": "code",
   "execution_count": null,
   "metadata": {},
   "outputs": [],
   "source": []
  }
 ],
 "metadata": {
  "kernelspec": {
   "display_name": "phy",
   "language": "python",
   "name": "python3"
  },
  "language_info": {
   "codemirror_mode": {
    "name": "ipython",
    "version": 3
   },
   "file_extension": ".py",
   "mimetype": "text/x-python",
   "name": "python",
   "nbconvert_exporter": "python",
   "pygments_lexer": "ipython3",
   "version": "3.11.0"
  }
 },
 "nbformat": 4,
 "nbformat_minor": 2
}
