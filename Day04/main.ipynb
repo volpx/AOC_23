{
 "cells": [
  {
   "cell_type": "code",
   "execution_count": 1,
   "metadata": {},
   "outputs": [],
   "source": [
    "import re\n",
    "import numpy as np\n",
    "import pandas as pd\n",
    "\n",
    "filename='input'"
   ]
  },
  {
   "cell_type": "code",
   "execution_count": 12,
   "metadata": {},
   "outputs": [
    {
     "name": "stdout",
     "output_type": "stream",
     "text": [
      "s: 20107\n"
     ]
    }
   ],
   "source": [
    "with open(filename) as file:\n",
    "    s=0\n",
    "    for line in file.readlines():\n",
    "        line=line[:-1]\n",
    "        card_number=line.split(':')[0][-3:]\n",
    "        winning_numbers=line.split(':')[1].split('|')[0].split(' ')\n",
    "        my_numbers=line.split(':')[1].split('|')[1].split(' ')\n",
    "        p=1\n",
    "        for n in my_numbers:\n",
    "            if len(n)>0 and n in winning_numbers:\n",
    "                p*=2\n",
    "        s+=p//2\n",
    "\n",
    "print('s:',s)\n"
   ]
  },
  {
   "cell_type": "code",
   "execution_count": 14,
   "metadata": {},
   "outputs": [
    {
     "name": "stdout",
     "output_type": "stream",
     "text": [
      "s: 8172507\n"
     ]
    }
   ],
   "source": [
    "instances=np.ones(203,dtype=np.int32)\n",
    "with open(filename) as file:\n",
    "    for l,line in enumerate(file.readlines()):\n",
    "        line=line[:-1]\n",
    "        card_number=line.split(':')[0][-3:]\n",
    "        winning_numbers=line.split(':')[1].split('|')[0].split(' ')\n",
    "        my_numbers=line.split(':')[1].split('|')[1].split(' ')\n",
    "        m=0\n",
    "        for n in my_numbers:\n",
    "            if len(n)>0 and n in winning_numbers:\n",
    "                m+=1\n",
    "        instances[l+1:l+1+m]+=1*instances[l]\n",
    "\n",
    "print('s:',np.sum(instances))"
   ]
  }
 ],
 "metadata": {
  "kernelspec": {
   "display_name": "phy",
   "language": "python",
   "name": "python3"
  },
  "language_info": {
   "codemirror_mode": {
    "name": "ipython",
    "version": 3
   },
   "file_extension": ".py",
   "mimetype": "text/x-python",
   "name": "python",
   "nbconvert_exporter": "python",
   "pygments_lexer": "ipython3",
   "version": "3.11.0"
  }
 },
 "nbformat": 4,
 "nbformat_minor": 2
}
