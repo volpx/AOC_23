{
 "cells": [
  {
   "cell_type": "code",
   "execution_count": 2,
   "metadata": {},
   "outputs": [],
   "source": [
    "import re\n",
    "import numpy as np\n",
    "import pandas as pd\n",
    "\n",
    "filename='input'"
   ]
  },
  {
   "cell_type": "code",
   "execution_count": 13,
   "metadata": {},
   "outputs": [],
   "source": [
    "# Build database\n",
    "# n_game , n_extraction , RGB\n",
    "games_db=np.zeros((100,10,3),dtype=np.int32)\n",
    "with open(filename,'r') as file:\n",
    "    for n_game,line in enumerate(file.readlines()):\n",
    "        game_string=line[:-1]\n",
    "        extractions_strings=game_string.split(':')[1].split(';')\n",
    "        # iterate on extractions\n",
    "        for n_extraction in range(len(extractions_strings)):\n",
    "            strings=extractions_strings[n_extraction].split(',')\n",
    "            for string in strings:\n",
    "                foo=string.split(' ')\n",
    "                # display(string)\n",
    "                games_db[n_game,n_extraction,['red','green','blue'].index(foo[2])]=int(foo[1])\n"
   ]
  },
  {
   "cell_type": "code",
   "execution_count": 15,
   "metadata": {},
   "outputs": [
    {
     "name": "stdout",
     "output_type": "stream",
     "text": [
      "s: 2685\n"
     ]
    }
   ],
   "source": [
    "Nred=12\n",
    "Ngreen=13\n",
    "Nblue=14\n",
    "s=0\n",
    "for n_game in range(games_db.shape[0]):\n",
    "    if np.max(games_db[n_game,:,0]) <= Nred and \\\n",
    "        np.max(games_db[n_game,:,1]) <= Ngreen and \\\n",
    "        np.max(games_db[n_game,:,2]) <= Nblue:\n",
    "\n",
    "        s+=n_game+1\n",
    "\n",
    "print('s:',s)\n"
   ]
  },
  {
   "cell_type": "code",
   "execution_count": 16,
   "metadata": {},
   "outputs": [
    {
     "name": "stdout",
     "output_type": "stream",
     "text": [
      "s: 83707\n"
     ]
    }
   ],
   "source": [
    "s=0\n",
    "for n_game in range(games_db.shape[0]):\n",
    "    s+=np.multiply.reduce(np.max(games_db[n_game],axis=0))\n",
    "\n",
    "print('s:',s)"
   ]
  },
  {
   "cell_type": "code",
   "execution_count": null,
   "metadata": {},
   "outputs": [],
   "source": []
  }
 ],
 "metadata": {
  "kernelspec": {
   "display_name": "phy",
   "language": "python",
   "name": "python3"
  },
  "language_info": {
   "codemirror_mode": {
    "name": "ipython",
    "version": 3
   },
   "file_extension": ".py",
   "mimetype": "text/x-python",
   "name": "python",
   "nbconvert_exporter": "python",
   "pygments_lexer": "ipython3",
   "version": "3.11.0"
  }
 },
 "nbformat": 4,
 "nbformat_minor": 2
}
